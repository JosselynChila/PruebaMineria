{
  "cells": [
    {
      "cell_type": "markdown",
      "metadata": {
        "id": "view-in-github",
        "colab_type": "text"
      },
      "source": [
        "<a href=\"https://colab.research.google.com/github/JosselynChila/PruebaMineria/blob/main/%5BNRC_6262%5D_ChilaJosselyn_MiguelCastillo_PonceBryan_PopQuiz1.ipynb\" target=\"_parent\"><img src=\"https://colab.research.google.com/assets/colab-badge.svg\" alt=\"Open In Colab\"/></a>"
      ]
    },
    {
      "cell_type": "markdown",
      "id": "8b6f603c",
      "metadata": {
        "id": "8b6f603c"
      },
      "source": [
        "<center><h1>Mineria de Datos</header1></center>"
      ]
    },
    {
      "cell_type": "markdown",
      "id": "3eb1aaac",
      "metadata": {
        "id": "3eb1aaac"
      },
      "source": [
        "Presentado por: Nombres Apellidos - Grupo  <br>\n",
        "Lider: Nombre Apellido  <br>\n",
        "Fecha: DD/MM/2022"
      ]
    },
    {
      "cell_type": "markdown",
      "id": "1dec299b",
      "metadata": {
        "ExecuteTime": {
          "end_time": "2022-03-14T15:14:04.930713Z",
          "start_time": "2022-03-14T15:14:04.921682Z"
        },
        "id": "1dec299b"
      },
      "source": [
        "# Importación de librerias necesarias"
      ]
    },
    {
      "cell_type": "code",
      "execution_count": 33,
      "id": "6d1abf7a",
      "metadata": {
        "ExecuteTime": {
          "end_time": "2022-03-14T15:14:46.228059Z",
          "start_time": "2022-03-14T15:14:46.223108Z"
        },
        "id": "6d1abf7a"
      },
      "outputs": [],
      "source": [
        "#Para esta actividad se importarán las siguientes librerías:\n",
        "\"\"\" IMPORTAR LIBRERIAS \"\"\"\n",
        "\"\"\" crear dataframes \"\"\"\n",
        "import pandas as pd \n",
        "\"\"\" dividir datos \"\"\"\n",
        "from sklearn.model_selection import train_test_split \n",
        "\"\"\" clasificador de arbol de decision \"\"\"\n",
        "from sklearn.tree import DecisionTreeClassifier \n",
        "\"\"\" encontrar metricas del modelo \"\"\"\n",
        "from sklearn.metrics import confusion_matrix, accuracy_score, precision_score, recall_score, f1_score\n",
        "\"\"\"mostrar graficas personalizadas\"\"\"\n",
        "import seaborn as sn\n",
        "\"\"\" graficar muestra de datos\"\"\"\n",
        "import matplotlib.pyplot as plt\n",
        "import matplotlib.image as pltimg\n",
        "\"\"\" mostrar arbol de desicion\"\"\"\n",
        "from sklearn import tree\n",
        "import pydotplus\n",
        "from sklearn.tree import DecisionTreeClassifier\n",
        "\"\"\"codificar caracteristicas\"\"\"\n",
        "from sklearn import preprocessing"
      ]
    },
    {
      "cell_type": "markdown",
      "id": "6a44b924",
      "metadata": {
        "id": "6a44b924"
      },
      "source": [
        "## Cargar el Dataset"
      ]
    },
    {
      "cell_type": "code",
      "execution_count": 2,
      "id": "3541e808",
      "metadata": {
        "scrolled": true,
        "colab": {
          "base_uri": "https://localhost:8080/",
          "height": 548
        },
        "id": "3541e808",
        "outputId": "89770ec3-a7ea-460a-87c9-09341f9d3bd6"
      },
      "outputs": [
        {
          "output_type": "execute_result",
          "data": {
            "text/plain": [
              "   Unnamed: 0  price      brand    model  year   title_status   mileage  \\\n",
              "0           0   6300     toyota  cruiser  2008  clean vehicle  274117.0   \n",
              "1           1   2899       ford       se  2011  clean vehicle  190552.0   \n",
              "2           2   5350      dodge      mpv  2018  clean vehicle   39590.0   \n",
              "3           3  25000       ford     door  2014  clean vehicle   64146.0   \n",
              "4           4  27700  chevrolet     1500  2018  clean vehicle    6654.0   \n",
              "5           5   5700      dodge      mpv  2018  clean vehicle   45561.0   \n",
              "6           6   7300  chevrolet       pk  2010  clean vehicle  149050.0   \n",
              "7           7  13350        gmc     door  2017  clean vehicle   23525.0   \n",
              "8           8  14600  chevrolet   malibu  2018  clean vehicle    9371.0   \n",
              "9           9   5250       ford      mpv  2017  clean vehicle   63418.0   \n",
              "\n",
              "    color                  vin        lot       state country      condition  \n",
              "0   black    jtezu11f88k007763  159348797  new jersey     usa   10 days left  \n",
              "1  silver    2fmdk3gc4bbb02217  166951262   tennessee     usa    6 days left  \n",
              "2  silver    3c4pdcgg5jt346413  167655728     georgia     usa    2 days left  \n",
              "3    blue    1ftfw1et4efc23745  167753855    virginia     usa  22 hours left  \n",
              "4     red    3gcpcrec2jg473991  167763266     florida     usa  22 hours left  \n",
              "5   white    2c4rdgeg9jr237989  167655771       texas     usa    2 days left  \n",
              "6   black    1gcsksea1az121133  167753872     georgia     usa  22 hours left  \n",
              "7    gray    1gks2gkc3hr326762  167692494  california     usa  20 hours left  \n",
              "8  silver    1g1zd5st5jf191860  167763267     florida     usa  22 hours left  \n",
              "9   black    2fmpk3j92hbc12542  167656121       texas     usa    2 days left  "
            ],
            "text/html": [
              "\n",
              "  <div id=\"df-5b98f2f3-0df2-4410-98b1-98019caf892f\">\n",
              "    <div class=\"colab-df-container\">\n",
              "      <div>\n",
              "<style scoped>\n",
              "    .dataframe tbody tr th:only-of-type {\n",
              "        vertical-align: middle;\n",
              "    }\n",
              "\n",
              "    .dataframe tbody tr th {\n",
              "        vertical-align: top;\n",
              "    }\n",
              "\n",
              "    .dataframe thead th {\n",
              "        text-align: right;\n",
              "    }\n",
              "</style>\n",
              "<table border=\"1\" class=\"dataframe\">\n",
              "  <thead>\n",
              "    <tr style=\"text-align: right;\">\n",
              "      <th></th>\n",
              "      <th>Unnamed: 0</th>\n",
              "      <th>price</th>\n",
              "      <th>brand</th>\n",
              "      <th>model</th>\n",
              "      <th>year</th>\n",
              "      <th>title_status</th>\n",
              "      <th>mileage</th>\n",
              "      <th>color</th>\n",
              "      <th>vin</th>\n",
              "      <th>lot</th>\n",
              "      <th>state</th>\n",
              "      <th>country</th>\n",
              "      <th>condition</th>\n",
              "    </tr>\n",
              "  </thead>\n",
              "  <tbody>\n",
              "    <tr>\n",
              "      <th>0</th>\n",
              "      <td>0</td>\n",
              "      <td>6300</td>\n",
              "      <td>toyota</td>\n",
              "      <td>cruiser</td>\n",
              "      <td>2008</td>\n",
              "      <td>clean vehicle</td>\n",
              "      <td>274117.0</td>\n",
              "      <td>black</td>\n",
              "      <td>jtezu11f88k007763</td>\n",
              "      <td>159348797</td>\n",
              "      <td>new jersey</td>\n",
              "      <td>usa</td>\n",
              "      <td>10 days left</td>\n",
              "    </tr>\n",
              "    <tr>\n",
              "      <th>1</th>\n",
              "      <td>1</td>\n",
              "      <td>2899</td>\n",
              "      <td>ford</td>\n",
              "      <td>se</td>\n",
              "      <td>2011</td>\n",
              "      <td>clean vehicle</td>\n",
              "      <td>190552.0</td>\n",
              "      <td>silver</td>\n",
              "      <td>2fmdk3gc4bbb02217</td>\n",
              "      <td>166951262</td>\n",
              "      <td>tennessee</td>\n",
              "      <td>usa</td>\n",
              "      <td>6 days left</td>\n",
              "    </tr>\n",
              "    <tr>\n",
              "      <th>2</th>\n",
              "      <td>2</td>\n",
              "      <td>5350</td>\n",
              "      <td>dodge</td>\n",
              "      <td>mpv</td>\n",
              "      <td>2018</td>\n",
              "      <td>clean vehicle</td>\n",
              "      <td>39590.0</td>\n",
              "      <td>silver</td>\n",
              "      <td>3c4pdcgg5jt346413</td>\n",
              "      <td>167655728</td>\n",
              "      <td>georgia</td>\n",
              "      <td>usa</td>\n",
              "      <td>2 days left</td>\n",
              "    </tr>\n",
              "    <tr>\n",
              "      <th>3</th>\n",
              "      <td>3</td>\n",
              "      <td>25000</td>\n",
              "      <td>ford</td>\n",
              "      <td>door</td>\n",
              "      <td>2014</td>\n",
              "      <td>clean vehicle</td>\n",
              "      <td>64146.0</td>\n",
              "      <td>blue</td>\n",
              "      <td>1ftfw1et4efc23745</td>\n",
              "      <td>167753855</td>\n",
              "      <td>virginia</td>\n",
              "      <td>usa</td>\n",
              "      <td>22 hours left</td>\n",
              "    </tr>\n",
              "    <tr>\n",
              "      <th>4</th>\n",
              "      <td>4</td>\n",
              "      <td>27700</td>\n",
              "      <td>chevrolet</td>\n",
              "      <td>1500</td>\n",
              "      <td>2018</td>\n",
              "      <td>clean vehicle</td>\n",
              "      <td>6654.0</td>\n",
              "      <td>red</td>\n",
              "      <td>3gcpcrec2jg473991</td>\n",
              "      <td>167763266</td>\n",
              "      <td>florida</td>\n",
              "      <td>usa</td>\n",
              "      <td>22 hours left</td>\n",
              "    </tr>\n",
              "    <tr>\n",
              "      <th>5</th>\n",
              "      <td>5</td>\n",
              "      <td>5700</td>\n",
              "      <td>dodge</td>\n",
              "      <td>mpv</td>\n",
              "      <td>2018</td>\n",
              "      <td>clean vehicle</td>\n",
              "      <td>45561.0</td>\n",
              "      <td>white</td>\n",
              "      <td>2c4rdgeg9jr237989</td>\n",
              "      <td>167655771</td>\n",
              "      <td>texas</td>\n",
              "      <td>usa</td>\n",
              "      <td>2 days left</td>\n",
              "    </tr>\n",
              "    <tr>\n",
              "      <th>6</th>\n",
              "      <td>6</td>\n",
              "      <td>7300</td>\n",
              "      <td>chevrolet</td>\n",
              "      <td>pk</td>\n",
              "      <td>2010</td>\n",
              "      <td>clean vehicle</td>\n",
              "      <td>149050.0</td>\n",
              "      <td>black</td>\n",
              "      <td>1gcsksea1az121133</td>\n",
              "      <td>167753872</td>\n",
              "      <td>georgia</td>\n",
              "      <td>usa</td>\n",
              "      <td>22 hours left</td>\n",
              "    </tr>\n",
              "    <tr>\n",
              "      <th>7</th>\n",
              "      <td>7</td>\n",
              "      <td>13350</td>\n",
              "      <td>gmc</td>\n",
              "      <td>door</td>\n",
              "      <td>2017</td>\n",
              "      <td>clean vehicle</td>\n",
              "      <td>23525.0</td>\n",
              "      <td>gray</td>\n",
              "      <td>1gks2gkc3hr326762</td>\n",
              "      <td>167692494</td>\n",
              "      <td>california</td>\n",
              "      <td>usa</td>\n",
              "      <td>20 hours left</td>\n",
              "    </tr>\n",
              "    <tr>\n",
              "      <th>8</th>\n",
              "      <td>8</td>\n",
              "      <td>14600</td>\n",
              "      <td>chevrolet</td>\n",
              "      <td>malibu</td>\n",
              "      <td>2018</td>\n",
              "      <td>clean vehicle</td>\n",
              "      <td>9371.0</td>\n",
              "      <td>silver</td>\n",
              "      <td>1g1zd5st5jf191860</td>\n",
              "      <td>167763267</td>\n",
              "      <td>florida</td>\n",
              "      <td>usa</td>\n",
              "      <td>22 hours left</td>\n",
              "    </tr>\n",
              "    <tr>\n",
              "      <th>9</th>\n",
              "      <td>9</td>\n",
              "      <td>5250</td>\n",
              "      <td>ford</td>\n",
              "      <td>mpv</td>\n",
              "      <td>2017</td>\n",
              "      <td>clean vehicle</td>\n",
              "      <td>63418.0</td>\n",
              "      <td>black</td>\n",
              "      <td>2fmpk3j92hbc12542</td>\n",
              "      <td>167656121</td>\n",
              "      <td>texas</td>\n",
              "      <td>usa</td>\n",
              "      <td>2 days left</td>\n",
              "    </tr>\n",
              "  </tbody>\n",
              "</table>\n",
              "</div>\n",
              "      <button class=\"colab-df-convert\" onclick=\"convertToInteractive('df-5b98f2f3-0df2-4410-98b1-98019caf892f')\"\n",
              "              title=\"Convert this dataframe to an interactive table.\"\n",
              "              style=\"display:none;\">\n",
              "        \n",
              "  <svg xmlns=\"http://www.w3.org/2000/svg\" height=\"24px\"viewBox=\"0 0 24 24\"\n",
              "       width=\"24px\">\n",
              "    <path d=\"M0 0h24v24H0V0z\" fill=\"none\"/>\n",
              "    <path d=\"M18.56 5.44l.94 2.06.94-2.06 2.06-.94-2.06-.94-.94-2.06-.94 2.06-2.06.94zm-11 1L8.5 8.5l.94-2.06 2.06-.94-2.06-.94L8.5 2.5l-.94 2.06-2.06.94zm10 10l.94 2.06.94-2.06 2.06-.94-2.06-.94-.94-2.06-.94 2.06-2.06.94z\"/><path d=\"M17.41 7.96l-1.37-1.37c-.4-.4-.92-.59-1.43-.59-.52 0-1.04.2-1.43.59L10.3 9.45l-7.72 7.72c-.78.78-.78 2.05 0 2.83L4 21.41c.39.39.9.59 1.41.59.51 0 1.02-.2 1.41-.59l7.78-7.78 2.81-2.81c.8-.78.8-2.07 0-2.86zM5.41 20L4 18.59l7.72-7.72 1.47 1.35L5.41 20z\"/>\n",
              "  </svg>\n",
              "      </button>\n",
              "      \n",
              "  <style>\n",
              "    .colab-df-container {\n",
              "      display:flex;\n",
              "      flex-wrap:wrap;\n",
              "      gap: 12px;\n",
              "    }\n",
              "\n",
              "    .colab-df-convert {\n",
              "      background-color: #E8F0FE;\n",
              "      border: none;\n",
              "      border-radius: 50%;\n",
              "      cursor: pointer;\n",
              "      display: none;\n",
              "      fill: #1967D2;\n",
              "      height: 32px;\n",
              "      padding: 0 0 0 0;\n",
              "      width: 32px;\n",
              "    }\n",
              "\n",
              "    .colab-df-convert:hover {\n",
              "      background-color: #E2EBFA;\n",
              "      box-shadow: 0px 1px 2px rgba(60, 64, 67, 0.3), 0px 1px 3px 1px rgba(60, 64, 67, 0.15);\n",
              "      fill: #174EA6;\n",
              "    }\n",
              "\n",
              "    [theme=dark] .colab-df-convert {\n",
              "      background-color: #3B4455;\n",
              "      fill: #D2E3FC;\n",
              "    }\n",
              "\n",
              "    [theme=dark] .colab-df-convert:hover {\n",
              "      background-color: #434B5C;\n",
              "      box-shadow: 0px 1px 3px 1px rgba(0, 0, 0, 0.15);\n",
              "      filter: drop-shadow(0px 1px 2px rgba(0, 0, 0, 0.3));\n",
              "      fill: #FFFFFF;\n",
              "    }\n",
              "  </style>\n",
              "\n",
              "      <script>\n",
              "        const buttonEl =\n",
              "          document.querySelector('#df-5b98f2f3-0df2-4410-98b1-98019caf892f button.colab-df-convert');\n",
              "        buttonEl.style.display =\n",
              "          google.colab.kernel.accessAllowed ? 'block' : 'none';\n",
              "\n",
              "        async function convertToInteractive(key) {\n",
              "          const element = document.querySelector('#df-5b98f2f3-0df2-4410-98b1-98019caf892f');\n",
              "          const dataTable =\n",
              "            await google.colab.kernel.invokeFunction('convertToInteractive',\n",
              "                                                     [key], {});\n",
              "          if (!dataTable) return;\n",
              "\n",
              "          const docLinkHtml = 'Like what you see? Visit the ' +\n",
              "            '<a target=\"_blank\" href=https://colab.research.google.com/notebooks/data_table.ipynb>data table notebook</a>'\n",
              "            + ' to learn more about interactive tables.';\n",
              "          element.innerHTML = '';\n",
              "          dataTable['output_type'] = 'display_data';\n",
              "          await google.colab.output.renderOutput(dataTable, element);\n",
              "          const docLink = document.createElement('div');\n",
              "          docLink.innerHTML = docLinkHtml;\n",
              "          element.appendChild(docLink);\n",
              "        }\n",
              "      </script>\n",
              "    </div>\n",
              "  </div>\n",
              "  "
            ]
          },
          "metadata": {},
          "execution_count": 2
        }
      ],
      "source": [
        "#Código para cargar el Dataset\n",
        "df = pd.read_csv(\"USA_cars_datasets.csv\")\n",
        "df.head(10)"
      ]
    },
    {
      "cell_type": "code",
      "execution_count": 3,
      "id": "5d7be73a",
      "metadata": {
        "colab": {
          "base_uri": "https://localhost:8080/"
        },
        "id": "5d7be73a",
        "outputId": "e208cfb4-8059-4969-db0e-248cbe9ef117"
      },
      "outputs": [
        {
          "output_type": "stream",
          "name": "stdout",
          "text": [
            "<class 'pandas.core.frame.DataFrame'>\n",
            "RangeIndex: 2499 entries, 0 to 2498\n",
            "Data columns (total 13 columns):\n",
            " #   Column        Non-Null Count  Dtype  \n",
            "---  ------        --------------  -----  \n",
            " 0   Unnamed: 0    2499 non-null   int64  \n",
            " 1   price         2499 non-null   int64  \n",
            " 2   brand         2499 non-null   object \n",
            " 3   model         2499 non-null   object \n",
            " 4   year          2499 non-null   int64  \n",
            " 5   title_status  2499 non-null   object \n",
            " 6   mileage       2499 non-null   float64\n",
            " 7   color         2499 non-null   object \n",
            " 8   vin           2499 non-null   object \n",
            " 9   lot           2499 non-null   int64  \n",
            " 10  state         2499 non-null   object \n",
            " 11  country       2499 non-null   object \n",
            " 12  condition     2499 non-null   object \n",
            "dtypes: float64(1), int64(4), object(8)\n",
            "memory usage: 253.9+ KB\n"
          ]
        }
      ],
      "source": [
        "df.info()"
      ]
    },
    {
      "cell_type": "markdown",
      "id": "93c30410",
      "metadata": {
        "id": "93c30410"
      },
      "source": [
        "## Descripción de la fuente del Dataset"
      ]
    },
    {
      "cell_type": "markdown",
      "id": "db6174bc",
      "metadata": {
        "id": "db6174bc"
      },
      "source": [
        "Este conjunto de datos incluye información sobre 28 marcas de vehículos limpios y usados a la venta en EE. UU. Se ensamblaron doce características para cada automóvil en el conjunto de datos. Entre ellas tenemos 2499 datos y contiene 12 caracteristicas tales como: precio, marca, modelo, año, titulo del estado, kilometraje, conversion, lote, estado, país y condición. Se quiere predecir el estado del auto si esta limpios o usado a la venta en EE. UU."
      ]
    },
    {
      "cell_type": "markdown",
      "id": "7f868eab",
      "metadata": {
        "id": "7f868eab"
      },
      "source": [
        "## Explique el problema a resolver. \n",
        "Por medio de un algoritmo de arbol de decision con el finde obtener si el vehiculo esta limpio o de seguro de salvamiento, se obtendra la variable objetivo sera la columna de precios y las variales de entrada que se utilizaran las columnas de price, brand, model, year, mileage, color.\n"
      ]
    },
    {
      "cell_type": "markdown",
      "id": "0a19e6af",
      "metadata": {
        "id": "0a19e6af"
      },
      "source": [
        "## Preprocesamiento del dataset. Transformaciones previas necesarias para la modelación"
      ]
    },
    {
      "cell_type": "code",
      "execution_count": 10,
      "id": "5a24dac4",
      "metadata": {
        "colab": {
          "base_uri": "https://localhost:8080/"
        },
        "id": "5a24dac4",
        "outputId": "9e337502-b987-4e8b-e7b5-a3fa9d57596f"
      },
      "outputs": [
        {
          "output_type": "execute_result",
          "data": {
            "text/plain": [
              "Unnamed: 0      0\n",
              "price           0\n",
              "brand           0\n",
              "model           0\n",
              "year            0\n",
              "title_status    0\n",
              "mileage         0\n",
              "color           0\n",
              "vin             0\n",
              "lot             0\n",
              "state           0\n",
              "country         0\n",
              "condition       0\n",
              "dtype: int64"
            ]
          },
          "metadata": {},
          "execution_count": 10
        }
      ],
      "source": [
        "#Transformación de las caracteristicas (mire el apartado Feature engineering del aula virtual)\n",
        "\"\"\" identificar datos faltantes \"\"\"\n",
        "df.isnull().sum()"
      ]
    },
    {
      "cell_type": "code",
      "execution_count": 11,
      "id": "d43c5eb9",
      "metadata": {
        "id": "d43c5eb9"
      },
      "outputs": [],
      "source": [
        "label_encoder = preprocessing.LabelEncoder()\n",
        "df['brand']= label_encoder.fit_transform(df['brand'])\n",
        "df['model']= label_encoder.fit_transform(df['model'])\n",
        "df['title_status']= label_encoder.fit_transform(df['title_status'])\n",
        "df['color']= label_encoder.fit_transform(df['condition'])"
      ]
    },
    {
      "cell_type": "code",
      "execution_count": 12,
      "id": "fb57e229",
      "metadata": {
        "colab": {
          "base_uri": "https://localhost:8080/",
          "height": 548
        },
        "id": "fb57e229",
        "outputId": "ec13df49-4d25-4c99-c127-941736d034c6"
      },
      "outputs": [
        {
          "output_type": "execute_result",
          "data": {
            "text/plain": [
              "   Unnamed: 0  price  brand  model  year  title_status   mileage  color  \\\n",
              "0           0   6300     27     25  2008             0  274117.0      3   \n",
              "1           1   2899      8     92  2011             0  190552.0     39   \n",
              "2           2   5350      7     75  2018             0   39590.0     16   \n",
              "3           3  25000      8     32  2014             0   64146.0     20   \n",
              "4           4  27700      5      0  2018             0    6654.0     20   \n",
              "5           5   5700      7     75  2018             0   45561.0     16   \n",
              "6           6   7300      5     86  2010             0  149050.0     20   \n",
              "7           7  13350      9     32  2017             0   23525.0     18   \n",
              "8           8  14600      5     71  2018             0    9371.0     20   \n",
              "9           9   5250      8     75  2017             0   63418.0     16   \n",
              "\n",
              "                   vin        lot       state country      condition  \n",
              "0    jtezu11f88k007763  159348797  new jersey     usa   10 days left  \n",
              "1    2fmdk3gc4bbb02217  166951262   tennessee     usa    6 days left  \n",
              "2    3c4pdcgg5jt346413  167655728     georgia     usa    2 days left  \n",
              "3    1ftfw1et4efc23745  167753855    virginia     usa  22 hours left  \n",
              "4    3gcpcrec2jg473991  167763266     florida     usa  22 hours left  \n",
              "5    2c4rdgeg9jr237989  167655771       texas     usa    2 days left  \n",
              "6    1gcsksea1az121133  167753872     georgia     usa  22 hours left  \n",
              "7    1gks2gkc3hr326762  167692494  california     usa  20 hours left  \n",
              "8    1g1zd5st5jf191860  167763267     florida     usa  22 hours left  \n",
              "9    2fmpk3j92hbc12542  167656121       texas     usa    2 days left  "
            ],
            "text/html": [
              "\n",
              "  <div id=\"df-1b68ed66-d0bf-4729-aaa5-8bc36fb1acb5\">\n",
              "    <div class=\"colab-df-container\">\n",
              "      <div>\n",
              "<style scoped>\n",
              "    .dataframe tbody tr th:only-of-type {\n",
              "        vertical-align: middle;\n",
              "    }\n",
              "\n",
              "    .dataframe tbody tr th {\n",
              "        vertical-align: top;\n",
              "    }\n",
              "\n",
              "    .dataframe thead th {\n",
              "        text-align: right;\n",
              "    }\n",
              "</style>\n",
              "<table border=\"1\" class=\"dataframe\">\n",
              "  <thead>\n",
              "    <tr style=\"text-align: right;\">\n",
              "      <th></th>\n",
              "      <th>Unnamed: 0</th>\n",
              "      <th>price</th>\n",
              "      <th>brand</th>\n",
              "      <th>model</th>\n",
              "      <th>year</th>\n",
              "      <th>title_status</th>\n",
              "      <th>mileage</th>\n",
              "      <th>color</th>\n",
              "      <th>vin</th>\n",
              "      <th>lot</th>\n",
              "      <th>state</th>\n",
              "      <th>country</th>\n",
              "      <th>condition</th>\n",
              "    </tr>\n",
              "  </thead>\n",
              "  <tbody>\n",
              "    <tr>\n",
              "      <th>0</th>\n",
              "      <td>0</td>\n",
              "      <td>6300</td>\n",
              "      <td>27</td>\n",
              "      <td>25</td>\n",
              "      <td>2008</td>\n",
              "      <td>0</td>\n",
              "      <td>274117.0</td>\n",
              "      <td>3</td>\n",
              "      <td>jtezu11f88k007763</td>\n",
              "      <td>159348797</td>\n",
              "      <td>new jersey</td>\n",
              "      <td>usa</td>\n",
              "      <td>10 days left</td>\n",
              "    </tr>\n",
              "    <tr>\n",
              "      <th>1</th>\n",
              "      <td>1</td>\n",
              "      <td>2899</td>\n",
              "      <td>8</td>\n",
              "      <td>92</td>\n",
              "      <td>2011</td>\n",
              "      <td>0</td>\n",
              "      <td>190552.0</td>\n",
              "      <td>39</td>\n",
              "      <td>2fmdk3gc4bbb02217</td>\n",
              "      <td>166951262</td>\n",
              "      <td>tennessee</td>\n",
              "      <td>usa</td>\n",
              "      <td>6 days left</td>\n",
              "    </tr>\n",
              "    <tr>\n",
              "      <th>2</th>\n",
              "      <td>2</td>\n",
              "      <td>5350</td>\n",
              "      <td>7</td>\n",
              "      <td>75</td>\n",
              "      <td>2018</td>\n",
              "      <td>0</td>\n",
              "      <td>39590.0</td>\n",
              "      <td>16</td>\n",
              "      <td>3c4pdcgg5jt346413</td>\n",
              "      <td>167655728</td>\n",
              "      <td>georgia</td>\n",
              "      <td>usa</td>\n",
              "      <td>2 days left</td>\n",
              "    </tr>\n",
              "    <tr>\n",
              "      <th>3</th>\n",
              "      <td>3</td>\n",
              "      <td>25000</td>\n",
              "      <td>8</td>\n",
              "      <td>32</td>\n",
              "      <td>2014</td>\n",
              "      <td>0</td>\n",
              "      <td>64146.0</td>\n",
              "      <td>20</td>\n",
              "      <td>1ftfw1et4efc23745</td>\n",
              "      <td>167753855</td>\n",
              "      <td>virginia</td>\n",
              "      <td>usa</td>\n",
              "      <td>22 hours left</td>\n",
              "    </tr>\n",
              "    <tr>\n",
              "      <th>4</th>\n",
              "      <td>4</td>\n",
              "      <td>27700</td>\n",
              "      <td>5</td>\n",
              "      <td>0</td>\n",
              "      <td>2018</td>\n",
              "      <td>0</td>\n",
              "      <td>6654.0</td>\n",
              "      <td>20</td>\n",
              "      <td>3gcpcrec2jg473991</td>\n",
              "      <td>167763266</td>\n",
              "      <td>florida</td>\n",
              "      <td>usa</td>\n",
              "      <td>22 hours left</td>\n",
              "    </tr>\n",
              "    <tr>\n",
              "      <th>5</th>\n",
              "      <td>5</td>\n",
              "      <td>5700</td>\n",
              "      <td>7</td>\n",
              "      <td>75</td>\n",
              "      <td>2018</td>\n",
              "      <td>0</td>\n",
              "      <td>45561.0</td>\n",
              "      <td>16</td>\n",
              "      <td>2c4rdgeg9jr237989</td>\n",
              "      <td>167655771</td>\n",
              "      <td>texas</td>\n",
              "      <td>usa</td>\n",
              "      <td>2 days left</td>\n",
              "    </tr>\n",
              "    <tr>\n",
              "      <th>6</th>\n",
              "      <td>6</td>\n",
              "      <td>7300</td>\n",
              "      <td>5</td>\n",
              "      <td>86</td>\n",
              "      <td>2010</td>\n",
              "      <td>0</td>\n",
              "      <td>149050.0</td>\n",
              "      <td>20</td>\n",
              "      <td>1gcsksea1az121133</td>\n",
              "      <td>167753872</td>\n",
              "      <td>georgia</td>\n",
              "      <td>usa</td>\n",
              "      <td>22 hours left</td>\n",
              "    </tr>\n",
              "    <tr>\n",
              "      <th>7</th>\n",
              "      <td>7</td>\n",
              "      <td>13350</td>\n",
              "      <td>9</td>\n",
              "      <td>32</td>\n",
              "      <td>2017</td>\n",
              "      <td>0</td>\n",
              "      <td>23525.0</td>\n",
              "      <td>18</td>\n",
              "      <td>1gks2gkc3hr326762</td>\n",
              "      <td>167692494</td>\n",
              "      <td>california</td>\n",
              "      <td>usa</td>\n",
              "      <td>20 hours left</td>\n",
              "    </tr>\n",
              "    <tr>\n",
              "      <th>8</th>\n",
              "      <td>8</td>\n",
              "      <td>14600</td>\n",
              "      <td>5</td>\n",
              "      <td>71</td>\n",
              "      <td>2018</td>\n",
              "      <td>0</td>\n",
              "      <td>9371.0</td>\n",
              "      <td>20</td>\n",
              "      <td>1g1zd5st5jf191860</td>\n",
              "      <td>167763267</td>\n",
              "      <td>florida</td>\n",
              "      <td>usa</td>\n",
              "      <td>22 hours left</td>\n",
              "    </tr>\n",
              "    <tr>\n",
              "      <th>9</th>\n",
              "      <td>9</td>\n",
              "      <td>5250</td>\n",
              "      <td>8</td>\n",
              "      <td>75</td>\n",
              "      <td>2017</td>\n",
              "      <td>0</td>\n",
              "      <td>63418.0</td>\n",
              "      <td>16</td>\n",
              "      <td>2fmpk3j92hbc12542</td>\n",
              "      <td>167656121</td>\n",
              "      <td>texas</td>\n",
              "      <td>usa</td>\n",
              "      <td>2 days left</td>\n",
              "    </tr>\n",
              "  </tbody>\n",
              "</table>\n",
              "</div>\n",
              "      <button class=\"colab-df-convert\" onclick=\"convertToInteractive('df-1b68ed66-d0bf-4729-aaa5-8bc36fb1acb5')\"\n",
              "              title=\"Convert this dataframe to an interactive table.\"\n",
              "              style=\"display:none;\">\n",
              "        \n",
              "  <svg xmlns=\"http://www.w3.org/2000/svg\" height=\"24px\"viewBox=\"0 0 24 24\"\n",
              "       width=\"24px\">\n",
              "    <path d=\"M0 0h24v24H0V0z\" fill=\"none\"/>\n",
              "    <path d=\"M18.56 5.44l.94 2.06.94-2.06 2.06-.94-2.06-.94-.94-2.06-.94 2.06-2.06.94zm-11 1L8.5 8.5l.94-2.06 2.06-.94-2.06-.94L8.5 2.5l-.94 2.06-2.06.94zm10 10l.94 2.06.94-2.06 2.06-.94-2.06-.94-.94-2.06-.94 2.06-2.06.94z\"/><path d=\"M17.41 7.96l-1.37-1.37c-.4-.4-.92-.59-1.43-.59-.52 0-1.04.2-1.43.59L10.3 9.45l-7.72 7.72c-.78.78-.78 2.05 0 2.83L4 21.41c.39.39.9.59 1.41.59.51 0 1.02-.2 1.41-.59l7.78-7.78 2.81-2.81c.8-.78.8-2.07 0-2.86zM5.41 20L4 18.59l7.72-7.72 1.47 1.35L5.41 20z\"/>\n",
              "  </svg>\n",
              "      </button>\n",
              "      \n",
              "  <style>\n",
              "    .colab-df-container {\n",
              "      display:flex;\n",
              "      flex-wrap:wrap;\n",
              "      gap: 12px;\n",
              "    }\n",
              "\n",
              "    .colab-df-convert {\n",
              "      background-color: #E8F0FE;\n",
              "      border: none;\n",
              "      border-radius: 50%;\n",
              "      cursor: pointer;\n",
              "      display: none;\n",
              "      fill: #1967D2;\n",
              "      height: 32px;\n",
              "      padding: 0 0 0 0;\n",
              "      width: 32px;\n",
              "    }\n",
              "\n",
              "    .colab-df-convert:hover {\n",
              "      background-color: #E2EBFA;\n",
              "      box-shadow: 0px 1px 2px rgba(60, 64, 67, 0.3), 0px 1px 3px 1px rgba(60, 64, 67, 0.15);\n",
              "      fill: #174EA6;\n",
              "    }\n",
              "\n",
              "    [theme=dark] .colab-df-convert {\n",
              "      background-color: #3B4455;\n",
              "      fill: #D2E3FC;\n",
              "    }\n",
              "\n",
              "    [theme=dark] .colab-df-convert:hover {\n",
              "      background-color: #434B5C;\n",
              "      box-shadow: 0px 1px 3px 1px rgba(0, 0, 0, 0.15);\n",
              "      filter: drop-shadow(0px 1px 2px rgba(0, 0, 0, 0.3));\n",
              "      fill: #FFFFFF;\n",
              "    }\n",
              "  </style>\n",
              "\n",
              "      <script>\n",
              "        const buttonEl =\n",
              "          document.querySelector('#df-1b68ed66-d0bf-4729-aaa5-8bc36fb1acb5 button.colab-df-convert');\n",
              "        buttonEl.style.display =\n",
              "          google.colab.kernel.accessAllowed ? 'block' : 'none';\n",
              "\n",
              "        async function convertToInteractive(key) {\n",
              "          const element = document.querySelector('#df-1b68ed66-d0bf-4729-aaa5-8bc36fb1acb5');\n",
              "          const dataTable =\n",
              "            await google.colab.kernel.invokeFunction('convertToInteractive',\n",
              "                                                     [key], {});\n",
              "          if (!dataTable) return;\n",
              "\n",
              "          const docLinkHtml = 'Like what you see? Visit the ' +\n",
              "            '<a target=\"_blank\" href=https://colab.research.google.com/notebooks/data_table.ipynb>data table notebook</a>'\n",
              "            + ' to learn more about interactive tables.';\n",
              "          element.innerHTML = '';\n",
              "          dataTable['output_type'] = 'display_data';\n",
              "          await google.colab.output.renderOutput(dataTable, element);\n",
              "          const docLink = document.createElement('div');\n",
              "          docLink.innerHTML = docLinkHtml;\n",
              "          element.appendChild(docLink);\n",
              "        }\n",
              "      </script>\n",
              "    </div>\n",
              "  </div>\n",
              "  "
            ]
          },
          "metadata": {},
          "execution_count": 12
        }
      ],
      "source": [
        "df.head(10)"
      ]
    },
    {
      "cell_type": "markdown",
      "id": "a0b719c1",
      "metadata": {
        "id": "a0b719c1"
      },
      "source": [
        "## Caracterización del Dataset\n",
        "\n",
        "Realice una descripción de los datos con:\n",
        "\n",
        ">- Número de instancias en total.\n",
        ">- Número de atributos de entrada, su significado y tipo.\n",
        ">- Estadísticas de la variable objetivo.\n",
        ">- Estadísticas los atributos en relación con la variable objetivo.\n"
      ]
    },
    {
      "cell_type": "code",
      "execution_count": 13,
      "id": "2f0ed5d2",
      "metadata": {
        "colab": {
          "base_uri": "https://localhost:8080/"
        },
        "id": "2f0ed5d2",
        "outputId": "1be46e22-7460-4de3-a864-ea4caa80bf85"
      },
      "outputs": [
        {
          "output_type": "execute_result",
          "data": {
            "text/plain": [
              "(2499, 13)"
            ]
          },
          "metadata": {},
          "execution_count": 13
        }
      ],
      "source": [
        "#Código que responde a la descripción anterior\n",
        "#Número de instancias en total.\n",
        "df.shape\n"
      ]
    },
    {
      "cell_type": "code",
      "source": [
        "#Número de atributos de entrada, su significado y tipo.\n",
        "df.describe()"
      ],
      "metadata": {
        "colab": {
          "base_uri": "https://localhost:8080/",
          "height": 364
        },
        "id": "hPZLrynpvntn",
        "outputId": "98db5377-2252-4abc-ce77-ea17d2dc58de"
      },
      "id": "hPZLrynpvntn",
      "execution_count": 20,
      "outputs": [
        {
          "output_type": "execute_result",
          "data": {
            "text/plain": [
              "        Unnamed: 0         price        brand        model         year  \\\n",
              "count  2499.000000   2499.000000  2499.000000  2499.000000  2499.000000   \n",
              "mean   1249.000000  18767.671469     9.750300    50.943177  2016.714286   \n",
              "std     721.543484  12116.094936     5.886986    30.771335     3.442656   \n",
              "min       0.000000      0.000000     0.000000     0.000000  1973.000000   \n",
              "25%     624.500000  10200.000000     7.000000    32.000000  2016.000000   \n",
              "50%    1249.000000  16900.000000     8.000000    39.000000  2018.000000   \n",
              "75%    1873.500000  25555.500000     8.000000    72.000000  2019.000000   \n",
              "max    2498.000000  84900.000000    27.000000   126.000000  2020.000000   \n",
              "\n",
              "       title_status       mileage        color           lot  \n",
              "count   2499.000000  2.499000e+03  2499.000000  2.499000e+03  \n",
              "mean       0.065226  5.229869e+04    19.074030  1.676914e+08  \n",
              "std        0.246974  5.970552e+04    10.101354  2.038772e+05  \n",
              "min        0.000000  0.000000e+00     0.000000  1.593488e+08  \n",
              "25%        0.000000  2.146650e+04    16.000000  1.676253e+08  \n",
              "50%        0.000000  3.536500e+04    16.000000  1.677451e+08  \n",
              "75%        0.000000  6.347250e+04    19.000000  1.677798e+08  \n",
              "max        1.000000  1.017936e+06    46.000000  1.678055e+08  "
            ],
            "text/html": [
              "\n",
              "  <div id=\"df-ff7d984a-7883-453f-884b-c4b328c0925d\">\n",
              "    <div class=\"colab-df-container\">\n",
              "      <div>\n",
              "<style scoped>\n",
              "    .dataframe tbody tr th:only-of-type {\n",
              "        vertical-align: middle;\n",
              "    }\n",
              "\n",
              "    .dataframe tbody tr th {\n",
              "        vertical-align: top;\n",
              "    }\n",
              "\n",
              "    .dataframe thead th {\n",
              "        text-align: right;\n",
              "    }\n",
              "</style>\n",
              "<table border=\"1\" class=\"dataframe\">\n",
              "  <thead>\n",
              "    <tr style=\"text-align: right;\">\n",
              "      <th></th>\n",
              "      <th>Unnamed: 0</th>\n",
              "      <th>price</th>\n",
              "      <th>brand</th>\n",
              "      <th>model</th>\n",
              "      <th>year</th>\n",
              "      <th>title_status</th>\n",
              "      <th>mileage</th>\n",
              "      <th>color</th>\n",
              "      <th>lot</th>\n",
              "    </tr>\n",
              "  </thead>\n",
              "  <tbody>\n",
              "    <tr>\n",
              "      <th>count</th>\n",
              "      <td>2499.000000</td>\n",
              "      <td>2499.000000</td>\n",
              "      <td>2499.000000</td>\n",
              "      <td>2499.000000</td>\n",
              "      <td>2499.000000</td>\n",
              "      <td>2499.000000</td>\n",
              "      <td>2.499000e+03</td>\n",
              "      <td>2499.000000</td>\n",
              "      <td>2.499000e+03</td>\n",
              "    </tr>\n",
              "    <tr>\n",
              "      <th>mean</th>\n",
              "      <td>1249.000000</td>\n",
              "      <td>18767.671469</td>\n",
              "      <td>9.750300</td>\n",
              "      <td>50.943177</td>\n",
              "      <td>2016.714286</td>\n",
              "      <td>0.065226</td>\n",
              "      <td>5.229869e+04</td>\n",
              "      <td>19.074030</td>\n",
              "      <td>1.676914e+08</td>\n",
              "    </tr>\n",
              "    <tr>\n",
              "      <th>std</th>\n",
              "      <td>721.543484</td>\n",
              "      <td>12116.094936</td>\n",
              "      <td>5.886986</td>\n",
              "      <td>30.771335</td>\n",
              "      <td>3.442656</td>\n",
              "      <td>0.246974</td>\n",
              "      <td>5.970552e+04</td>\n",
              "      <td>10.101354</td>\n",
              "      <td>2.038772e+05</td>\n",
              "    </tr>\n",
              "    <tr>\n",
              "      <th>min</th>\n",
              "      <td>0.000000</td>\n",
              "      <td>0.000000</td>\n",
              "      <td>0.000000</td>\n",
              "      <td>0.000000</td>\n",
              "      <td>1973.000000</td>\n",
              "      <td>0.000000</td>\n",
              "      <td>0.000000e+00</td>\n",
              "      <td>0.000000</td>\n",
              "      <td>1.593488e+08</td>\n",
              "    </tr>\n",
              "    <tr>\n",
              "      <th>25%</th>\n",
              "      <td>624.500000</td>\n",
              "      <td>10200.000000</td>\n",
              "      <td>7.000000</td>\n",
              "      <td>32.000000</td>\n",
              "      <td>2016.000000</td>\n",
              "      <td>0.000000</td>\n",
              "      <td>2.146650e+04</td>\n",
              "      <td>16.000000</td>\n",
              "      <td>1.676253e+08</td>\n",
              "    </tr>\n",
              "    <tr>\n",
              "      <th>50%</th>\n",
              "      <td>1249.000000</td>\n",
              "      <td>16900.000000</td>\n",
              "      <td>8.000000</td>\n",
              "      <td>39.000000</td>\n",
              "      <td>2018.000000</td>\n",
              "      <td>0.000000</td>\n",
              "      <td>3.536500e+04</td>\n",
              "      <td>16.000000</td>\n",
              "      <td>1.677451e+08</td>\n",
              "    </tr>\n",
              "    <tr>\n",
              "      <th>75%</th>\n",
              "      <td>1873.500000</td>\n",
              "      <td>25555.500000</td>\n",
              "      <td>8.000000</td>\n",
              "      <td>72.000000</td>\n",
              "      <td>2019.000000</td>\n",
              "      <td>0.000000</td>\n",
              "      <td>6.347250e+04</td>\n",
              "      <td>19.000000</td>\n",
              "      <td>1.677798e+08</td>\n",
              "    </tr>\n",
              "    <tr>\n",
              "      <th>max</th>\n",
              "      <td>2498.000000</td>\n",
              "      <td>84900.000000</td>\n",
              "      <td>27.000000</td>\n",
              "      <td>126.000000</td>\n",
              "      <td>2020.000000</td>\n",
              "      <td>1.000000</td>\n",
              "      <td>1.017936e+06</td>\n",
              "      <td>46.000000</td>\n",
              "      <td>1.678055e+08</td>\n",
              "    </tr>\n",
              "  </tbody>\n",
              "</table>\n",
              "</div>\n",
              "      <button class=\"colab-df-convert\" onclick=\"convertToInteractive('df-ff7d984a-7883-453f-884b-c4b328c0925d')\"\n",
              "              title=\"Convert this dataframe to an interactive table.\"\n",
              "              style=\"display:none;\">\n",
              "        \n",
              "  <svg xmlns=\"http://www.w3.org/2000/svg\" height=\"24px\"viewBox=\"0 0 24 24\"\n",
              "       width=\"24px\">\n",
              "    <path d=\"M0 0h24v24H0V0z\" fill=\"none\"/>\n",
              "    <path d=\"M18.56 5.44l.94 2.06.94-2.06 2.06-.94-2.06-.94-.94-2.06-.94 2.06-2.06.94zm-11 1L8.5 8.5l.94-2.06 2.06-.94-2.06-.94L8.5 2.5l-.94 2.06-2.06.94zm10 10l.94 2.06.94-2.06 2.06-.94-2.06-.94-.94-2.06-.94 2.06-2.06.94z\"/><path d=\"M17.41 7.96l-1.37-1.37c-.4-.4-.92-.59-1.43-.59-.52 0-1.04.2-1.43.59L10.3 9.45l-7.72 7.72c-.78.78-.78 2.05 0 2.83L4 21.41c.39.39.9.59 1.41.59.51 0 1.02-.2 1.41-.59l7.78-7.78 2.81-2.81c.8-.78.8-2.07 0-2.86zM5.41 20L4 18.59l7.72-7.72 1.47 1.35L5.41 20z\"/>\n",
              "  </svg>\n",
              "      </button>\n",
              "      \n",
              "  <style>\n",
              "    .colab-df-container {\n",
              "      display:flex;\n",
              "      flex-wrap:wrap;\n",
              "      gap: 12px;\n",
              "    }\n",
              "\n",
              "    .colab-df-convert {\n",
              "      background-color: #E8F0FE;\n",
              "      border: none;\n",
              "      border-radius: 50%;\n",
              "      cursor: pointer;\n",
              "      display: none;\n",
              "      fill: #1967D2;\n",
              "      height: 32px;\n",
              "      padding: 0 0 0 0;\n",
              "      width: 32px;\n",
              "    }\n",
              "\n",
              "    .colab-df-convert:hover {\n",
              "      background-color: #E2EBFA;\n",
              "      box-shadow: 0px 1px 2px rgba(60, 64, 67, 0.3), 0px 1px 3px 1px rgba(60, 64, 67, 0.15);\n",
              "      fill: #174EA6;\n",
              "    }\n",
              "\n",
              "    [theme=dark] .colab-df-convert {\n",
              "      background-color: #3B4455;\n",
              "      fill: #D2E3FC;\n",
              "    }\n",
              "\n",
              "    [theme=dark] .colab-df-convert:hover {\n",
              "      background-color: #434B5C;\n",
              "      box-shadow: 0px 1px 3px 1px rgba(0, 0, 0, 0.15);\n",
              "      filter: drop-shadow(0px 1px 2px rgba(0, 0, 0, 0.3));\n",
              "      fill: #FFFFFF;\n",
              "    }\n",
              "  </style>\n",
              "\n",
              "      <script>\n",
              "        const buttonEl =\n",
              "          document.querySelector('#df-ff7d984a-7883-453f-884b-c4b328c0925d button.colab-df-convert');\n",
              "        buttonEl.style.display =\n",
              "          google.colab.kernel.accessAllowed ? 'block' : 'none';\n",
              "\n",
              "        async function convertToInteractive(key) {\n",
              "          const element = document.querySelector('#df-ff7d984a-7883-453f-884b-c4b328c0925d');\n",
              "          const dataTable =\n",
              "            await google.colab.kernel.invokeFunction('convertToInteractive',\n",
              "                                                     [key], {});\n",
              "          if (!dataTable) return;\n",
              "\n",
              "          const docLinkHtml = 'Like what you see? Visit the ' +\n",
              "            '<a target=\"_blank\" href=https://colab.research.google.com/notebooks/data_table.ipynb>data table notebook</a>'\n",
              "            + ' to learn more about interactive tables.';\n",
              "          element.innerHTML = '';\n",
              "          dataTable['output_type'] = 'display_data';\n",
              "          await google.colab.output.renderOutput(dataTable, element);\n",
              "          const docLink = document.createElement('div');\n",
              "          docLink.innerHTML = docLinkHtml;\n",
              "          element.appendChild(docLink);\n",
              "        }\n",
              "      </script>\n",
              "    </div>\n",
              "  </div>\n",
              "  "
            ]
          },
          "metadata": {},
          "execution_count": 20
        }
      ]
    },
    {
      "cell_type": "code",
      "source": [
        "#Número de atributos de entrada, su significado y tipo.\n",
        "df['title_status'].describe()"
      ],
      "metadata": {
        "colab": {
          "base_uri": "https://localhost:8080/"
        },
        "id": "eDqzWzj1uZLn",
        "outputId": "bae7f645-307c-400f-c762-ae9b8caa63c0"
      },
      "id": "eDqzWzj1uZLn",
      "execution_count": 14,
      "outputs": [
        {
          "output_type": "execute_result",
          "data": {
            "text/plain": [
              "count    2499.000000\n",
              "mean        0.065226\n",
              "std         0.246974\n",
              "min         0.000000\n",
              "25%         0.000000\n",
              "50%         0.000000\n",
              "75%         0.000000\n",
              "max         1.000000\n",
              "Name: title_status, dtype: float64"
            ]
          },
          "metadata": {},
          "execution_count": 14
        }
      ]
    },
    {
      "cell_type": "markdown",
      "id": "a7ab5e48",
      "metadata": {
        "id": "a7ab5e48"
      },
      "source": [
        "En un par de párrafos haga un resumen de los principales hallazagos encontrados:\n",
        "En el dataset se encuentran un total de 2499 registros, con 13 columnas, la variable objetivo tiene una media de 0.06 y una desviacion estandar de 0.24.\n"
      ]
    },
    {
      "cell_type": "markdown",
      "id": "49815fde",
      "metadata": {
        "ExecuteTime": {
          "end_time": "2022-03-14T15:56:34.366469Z",
          "start_time": "2022-03-14T15:56:34.358471Z"
        },
        "id": "49815fde"
      },
      "source": [
        "## División del dataset en datos de entrenamiento y datos de test "
      ]
    },
    {
      "cell_type": "code",
      "execution_count": 26,
      "id": "6f26d21e",
      "metadata": {
        "colab": {
          "base_uri": "https://localhost:8080/"
        },
        "id": "6f26d21e",
        "outputId": "d2ce5a0b-d080-4154-d452-f1bc96e1a697"
      },
      "outputs": [
        {
          "output_type": "stream",
          "name": "stdout",
          "text": [
            "      price  brand  model  year   mileage  color\n",
            "137   19500      6      3  2017   31311.0     30\n",
            "2278   3300     24     32  2013  100225.0     43\n",
            "1851  10500      8     32  2014  119689.0     11\n",
            "1563  16500      8     58  2019   36956.0     43\n",
            "2022  31700      8     32  2015  126708.0     19\n",
            "...     ...    ...    ...   ...       ...    ...\n",
            "960   23800      7     14  2019   26443.0     19\n",
            "905   17300      7     14  2018   42909.0     16\n",
            "1096   3700      7     32  2014   98699.0     16\n",
            "235    3650      8     32  2016   68142.0     16\n",
            "1061  17000      7     12  2019   38817.0      8\n",
            "\n",
            "[1749 rows x 6 columns] \n",
            "\n",
            "       price  brand  model  year  mileage  color\n",
            "1384  13500      8     46  2018  21592.0     32\n",
            "620   24002      8     54  2019  16106.0     16\n",
            "107   18003      5     71  2017  19117.0     13\n",
            "1781  12100      8     46  2017  32284.0     14\n",
            "1592  39950      8     50  2019   9278.0     32\n",
            "...     ...    ...    ...   ...      ...    ...\n",
            "1268  24400      8    112  2018  49710.0      0\n",
            "1382  19100      8     77  2018  30594.0     16\n",
            "743   35500      5    105  2019  46149.0     16\n",
            "1129  22700      7     36  2019  49575.0     16\n",
            "372    9190      9     75  2017  31394.0     13\n",
            "\n",
            "[750 rows x 6 columns] \n",
            "\n",
            " 137     0\n",
            "2278    0\n",
            "1851    1\n",
            "1563    0\n",
            "2022    0\n",
            "       ..\n",
            "960     0\n",
            "905     0\n",
            "1096    0\n",
            "235     0\n",
            "1061    0\n",
            "Name: title_status, Length: 1749, dtype: int64 \n",
            "\n",
            " 1384    0\n",
            "620     0\n",
            "107     0\n",
            "1781    0\n",
            "1592    0\n",
            "       ..\n",
            "1268    0\n",
            "1382    0\n",
            "743     0\n",
            "1129    0\n",
            "372     0\n",
            "Name: title_status, Length: 750, dtype: int64\n"
          ]
        }
      ],
      "source": [
        "#Código que realice la división en entrenamiento y test, de acuerdo con la estretgia de evaluación planeada. Describa cuál es.\n",
        "\"\"\" crear lista de caracteristicas \"\"\"\n",
        "caracteristicas_x = ['price','brand','model','year','mileage','color']\n",
        "\n",
        "\"\"\" seleccionar variable independiente/matriz de caracteristicas \"\"\"\n",
        "X = df[caracteristicas_x]\n",
        "\n",
        "\"\"\" seleccionar varaible dependiente/objetivo/etiqueta \"\"\"\n",
        "y = df['title_status']\n",
        "\n",
        "\"\"\" dividir datos en entrenamiento y prueba \"\"\"\n",
        "X_train, X_test, y_train, y_test = train_test_split(X, y, test_size=0.3, random_state=1)\n",
        "\n",
        "\"\"\" mostrar datos divididos \"\"\"\n",
        "print(X_train, '\\n\\n', X_test, '\\n\\n' ,y_train,  '\\n\\n',y_test)"
      ]
    },
    {
      "cell_type": "markdown",
      "id": "6319adad",
      "metadata": {
        "id": "6319adad"
      },
      "source": [
        "## Modelamiento"
      ]
    },
    {
      "cell_type": "code",
      "execution_count": 24,
      "id": "d5d2b2c6",
      "metadata": {
        "id": "d5d2b2c6"
      },
      "outputs": [],
      "source": [
        "#Códo del modelo\n",
        "\"\"\" crear instancia de clasificacion de arbol de decision  \"\"\"\n",
        "clf_dtree = DecisionTreeClassifier()"
      ]
    },
    {
      "cell_type": "code",
      "execution_count": 27,
      "id": "33f5be2a",
      "metadata": {
        "ExecuteTime": {
          "end_time": "2022-04-25T07:21:39.020596Z",
          "start_time": "2022-04-25T07:21:39.005596Z"
        },
        "id": "33f5be2a"
      },
      "outputs": [],
      "source": [
        "#Entrenamiento\n",
        "\"\"\" entrenar la clasificacion del arbol de decision \"\"\"\n",
        "clf_dtree = clf_dtree.fit(X_train,y_train)"
      ]
    },
    {
      "cell_type": "code",
      "execution_count": 28,
      "id": "a2e675b3",
      "metadata": {
        "id": "a2e675b3"
      },
      "outputs": [],
      "source": [
        "#Test\n",
        "\"\"\" obtener predicciones para comprobar con el conjunto de datos de prueba \"\"\"\n",
        "y_pred = clf_dtree.predict(X_test)"
      ]
    },
    {
      "cell_type": "markdown",
      "id": "9c2239f5",
      "metadata": {
        "id": "9c2239f5"
      },
      "source": [
        "## Evaluación del Modelo"
      ]
    },
    {
      "cell_type": "markdown",
      "id": "ad219a0c",
      "metadata": {
        "id": "ad219a0c"
      },
      "source": [
        "Construya un o dos párrafos con los principales hallazgos. Cómo está funcionando el modelo? Calidad en los resultados de predicción. "
      ]
    },
    {
      "cell_type": "code",
      "execution_count": 29,
      "id": "28b14a2f",
      "metadata": {
        "id": "28b14a2f"
      },
      "outputs": [],
      "source": [
        "\"\"\"crear funcion para encontrar metricas del modelo \"\"\"\n",
        "def encontrar_metricas(y_test,y_pred):\n",
        "    \"\"\" encontrar la precision del general del modelo\"\"\"\n",
        "    accuracy = f\"{accuracy_score(y_test, y_pred):.2f}\"\n",
        "    \"\"\" encontrar otras metricas con micro-promedio \"\"\"\n",
        "    precision_mi = f\"{precision_score(y_test, y_pred, average='micro'):.2f}\"\n",
        "    recall_mi = f\"{recall_score(y_test, y_pred, average='micro'):.2f}\"\n",
        "    f1score_mi = f\"{f1_score(y_test, y_pred, average='micro'):.2f}\"\n",
        "    \"\"\" encontrar otras metricas con macro-promedio \"\"\"\n",
        "    precision_ma = f\"{precision_score(y_test, y_pred, average='macro'):.2f}\"\n",
        "    recall_ma = f\"{recall_score(y_test, y_pred, average='macro'):.2f}\"\n",
        "    f1score_ma = f\"{f1_score(y_test, y_pred, average='macro'):.2f}\"\n",
        "    return print('Accuracy: '+ accuracy+ '\\n\\nMICRO\\nPrecision: '+precision_mi+ '\\nRecall: '+recall_mi+\n",
        "                 '\\nF1-Score: '+f1score_mi +'\\n\\nMACRO\\nPrecision: '+precision_ma+ '\\nRecall: '+recall_ma+\n",
        "                '\\nF1-Score: '+f1score_ma)"
      ]
    },
    {
      "cell_type": "code",
      "execution_count": 30,
      "id": "f69ca3d5",
      "metadata": {
        "colab": {
          "base_uri": "https://localhost:8080/"
        },
        "id": "f69ca3d5",
        "outputId": "123b3e96-f3a3-473e-868b-da7af4f2729b"
      },
      "outputs": [
        {
          "output_type": "stream",
          "name": "stdout",
          "text": [
            "Accuracy: 0.97\n",
            "\n",
            "MICRO\n",
            "Precision: 0.97\n",
            "Recall: 0.97\n",
            "F1-Score: 0.97\n",
            "\n",
            "MACRO\n",
            "Precision: 0.91\n",
            "Recall: 0.87\n",
            "F1-Score: 0.89\n"
          ]
        }
      ],
      "source": [
        "\"\"\" mostrar valores de las metricas encontradas\"\"\"\n",
        "encontrar_metricas(y_test,y_pred)"
      ]
    },
    {
      "cell_type": "code",
      "source": [
        "data = tree.export_graphviz(clf_dtree, out_file=None, feature_names=caracteristicas_x)\n",
        "graph = pydotplus.graph_from_dot_data(data)\n",
        "graph.write_png('mydecisiontree.png')"
      ],
      "metadata": {
        "colab": {
          "base_uri": "https://localhost:8080/"
        },
        "id": "Zf3GCXM_wrzn",
        "outputId": "e35a1e61-16b9-4ee8-c246-245158dde68c"
      },
      "id": "Zf3GCXM_wrzn",
      "execution_count": 35,
      "outputs": [
        {
          "output_type": "execute_result",
          "data": {
            "text/plain": [
              "True"
            ]
          },
          "metadata": {},
          "execution_count": 35
        }
      ]
    },
    {
      "cell_type": "code",
      "source": [
        "img = pltimg.imread('mydecisiontree.png')\n",
        "imgplot = plt.imshow(img)\n",
        "plt.show()"
      ],
      "metadata": {
        "colab": {
          "base_uri": "https://localhost:8080/",
          "height": 269
        },
        "id": "yLmmAgwrw3An",
        "outputId": "741c6dc9-0ce3-42d6-e397-3d1eb65cbbd8"
      },
      "id": "yLmmAgwrw3An",
      "execution_count": 36,
      "outputs": [
        {
          "output_type": "display_data",
          "data": {
            "text/plain": [
              "<Figure size 432x288 with 1 Axes>"
            ],
            "image/png": "[encoded data removed]"
          },
          "metadata": {
            "needs_background": "light"
          }
        }
      ]
    },
    {
      "cell_type": "markdown",
      "id": "822ff948",
      "metadata": {
        "id": "822ff948"
      },
      "source": [
        "# Interpretación de Resultados"
      ]
    },
    {
      "cell_type": "code",
      "execution_count": null,
      "id": "16f57562",
      "metadata": {
        "id": "16f57562"
      },
      "outputs": [],
      "source": [
        ""
      ]
    }
  ],
  "metadata": {
    "kernelspec": {
      "display_name": "Python 3 (ipykernel)",
      "language": "python",
      "name": "python3"
    },
    "language_info": {
      "codemirror_mode": {
        "name": "ipython",
        "version": 3
      },
      "file_extension": ".py",
      "mimetype": "text/x-python",
      "name": "python",
      "nbconvert_exporter": "python",
      "pygments_lexer": "ipython3",
      "version": "3.9.12"
    },
    "toc": {
      "base_numbering": 1,
      "nav_menu": {},
      "number_sections": true,
      "sideBar": true,
      "skip_h1_title": true,
      "title_cell": "Tabla de Contenido",
      "title_sidebar": "Contenido",
      "toc_cell": false,
      "toc_position": {
        "height": "calc(100% - 180px)",
        "left": "10px",
        "top": "150px",
        "width": "263.591px"
      },
      "toc_section_display": true,
      "toc_window_display": true
    },
    "colab": {
      "name": "[NRC_6262]_ChilaJosselyn_MiguelCastillo_PonceBryan_PopQuiz1.ipynb",
      "provenance": [],
      "include_colab_link": true
    }
  },
  "nbformat": 4,
  "nbformat_minor": 5
}